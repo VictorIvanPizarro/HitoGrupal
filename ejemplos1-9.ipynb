{
 "cells": [
  {
   "cell_type": "markdown",
   "id": "fdec4f0d",
   "metadata": {},
   "source": [
    "# HitoGrupal 1T\n",
    "\n",
    "\n",
    "### Demostración\n",
    "\n",
    "\n",
    "Este notebook es una recoplicación de los ejemplos prácticos que hemos comentado y desarrollado en nuestro podcast sobre Python para este Hito Grupal y para que los usuarios lo puedan consultar y descargar. Añadir que siguen el orden llevado en el podcast y todos están explicados brevemente en la grabación."
   ]
  },
  {
   "cell_type": "markdown",
   "id": "46b9c358",
   "metadata": {},
   "source": [
    "### Ejemplo 1 - Tipado dinámico"
   ]
  },
  {
   "cell_type": "code",
   "execution_count": 5,
   "id": "1a0e2ecc",
   "metadata": {},
   "outputs": [
    {
     "name": "stdout",
     "output_type": "stream",
     "text": [
      "5\n",
      "Hola mundo\n"
     ]
    }
   ],
   "source": [
    "#la variable a cambia de tipo de dato (tipado dinámico)\n",
    "a = 5\n",
    "print(a)\n",
    "a = \"Hola mundo\"\n",
    "print(a)"
   ]
  },
  {
   "cell_type": "code",
   "execution_count": 7,
   "id": "cd67bf15",
   "metadata": {},
   "outputs": [
    {
     "ename": "TypeError",
     "evalue": "unsupported operand type(s) for +: 'int' and 'str'",
     "output_type": "error",
     "traceback": [
      "\u001b[1;31m---------------------------------------------------------------------------\u001b[0m",
      "\u001b[1;31mTypeError\u001b[0m                                 Traceback (most recent call last)",
      "\u001b[1;32m~\\AppData\\Local\\Temp/ipykernel_13524/2208464539.py\u001b[0m in \u001b[0;36m<module>\u001b[1;34m\u001b[0m\n\u001b[0;32m      2\u001b[0m \u001b[0ma\u001b[0m \u001b[1;33m=\u001b[0m \u001b[1;36m5\u001b[0m\u001b[1;33m\u001b[0m\u001b[1;33m\u001b[0m\u001b[0m\n\u001b[0;32m      3\u001b[0m \u001b[0mb\u001b[0m \u001b[1;33m=\u001b[0m \u001b[1;34m\"7\"\u001b[0m\u001b[1;33m\u001b[0m\u001b[1;33m\u001b[0m\u001b[0m\n\u001b[1;32m----> 4\u001b[1;33m \u001b[0mprint\u001b[0m\u001b[1;33m(\u001b[0m\u001b[0ma\u001b[0m \u001b[1;33m+\u001b[0m \u001b[0mb\u001b[0m\u001b[1;33m)\u001b[0m\u001b[1;33m\u001b[0m\u001b[1;33m\u001b[0m\u001b[0m\n\u001b[0m",
      "\u001b[1;31mTypeError\u001b[0m: unsupported operand type(s) for +: 'int' and 'str'"
     ]
    }
   ],
   "source": [
    "#operación de tipos de datos incompatibles (tipado fuerte)\n",
    "a = 5\n",
    "b = \"7\"\n",
    "print(a + b)"
   ]
  },
  {
   "cell_type": "code",
   "execution_count": 8,
   "id": "da207ee7",
   "metadata": {},
   "outputs": [
    {
     "name": "stdout",
     "output_type": "stream",
     "text": [
      "12\n"
     ]
    }
   ],
   "source": [
    "#se necesita convertir los datos\n",
    "a = 5\n",
    "b = \"7\"\n",
    "print(a + int(b))"
   ]
  },
  {
   "cell_type": "markdown",
   "id": "738625b6",
   "metadata": {},
   "source": [
    "### Ejemplo 2 - Clases y Objetos"
   ]
  },
  {
   "cell_type": "code",
   "execution_count": 11,
   "id": "6fb47284",
   "metadata": {},
   "outputs": [],
   "source": [
    "#clase coche con atributos y métodos\n",
    "class Coche:\n",
    "    \n",
    "    def __init__(self, marca, puertas, tipoCarburante):\n",
    "        self.marca = marca\n",
    "        self.puertas = puertas\n",
    "        self.tipoCarburante = tipoCarburante\n",
    "        \n",
    "    def arrancar(self):\n",
    "        print (\"Arranca\")\n",
    "     \n",
    "    def parar(self):\n",
    "        print (\"Para\")"
   ]
  },
  {
   "cell_type": "code",
   "execution_count": 12,
   "id": "36b3c62a",
   "metadata": {},
   "outputs": [],
   "source": [
    "#crear objeto Coche\n",
    "miCoche = Coche(\"Skoda\", 4, \"gasolina\")"
   ]
  },
  {
   "cell_type": "code",
   "execution_count": 13,
   "id": "d59c50ab",
   "metadata": {},
   "outputs": [
    {
     "name": "stdout",
     "output_type": "stream",
     "text": [
      "Arranca\n",
      "Para\n"
     ]
    }
   ],
   "source": [
    "#usar métodos\n",
    "miCoche.arrancar()\n",
    "miCoche.parar()"
   ]
  },
  {
   "cell_type": "markdown",
   "id": "94b04760",
   "metadata": {},
   "source": [
    "### Ejemplo 3 - Encapsulación"
   ]
  },
  {
   "cell_type": "code",
   "execution_count": 29,
   "id": "579a5e64",
   "metadata": {},
   "outputs": [
    {
     "name": "stdout",
     "output_type": "stream",
     "text": [
      "Publico\n"
     ]
    },
    {
     "ename": "AttributeError",
     "evalue": "'Ejemplo' object has no attribute '__privado'",
     "output_type": "error",
     "traceback": [
      "\u001b[1;31m---------------------------------------------------------------------------\u001b[0m",
      "\u001b[1;31mAttributeError\u001b[0m                            Traceback (most recent call last)",
      "\u001b[1;32m~\\AppData\\Local\\Temp/ipykernel_13524/2273913827.py\u001b[0m in \u001b[0;36m<module>\u001b[1;34m\u001b[0m\n\u001b[0;32m      9\u001b[0m \u001b[0mej\u001b[0m \u001b[1;33m=\u001b[0m \u001b[0mEjemplo\u001b[0m\u001b[1;33m(\u001b[0m\u001b[1;33m)\u001b[0m\u001b[1;33m\u001b[0m\u001b[1;33m\u001b[0m\u001b[0m\n\u001b[0;32m     10\u001b[0m \u001b[0mej\u001b[0m\u001b[1;33m.\u001b[0m\u001b[0mpublico\u001b[0m\u001b[1;33m(\u001b[0m\u001b[1;33m)\u001b[0m\u001b[1;33m\u001b[0m\u001b[1;33m\u001b[0m\u001b[0m\n\u001b[1;32m---> 11\u001b[1;33m \u001b[0mej\u001b[0m\u001b[1;33m.\u001b[0m\u001b[0m__privado\u001b[0m\u001b[1;33m(\u001b[0m\u001b[1;33m)\u001b[0m\u001b[1;33m\u001b[0m\u001b[1;33m\u001b[0m\u001b[0m\n\u001b[0m",
      "\u001b[1;31mAttributeError\u001b[0m: 'Ejemplo' object has no attribute '__privado'"
     ]
    }
   ],
   "source": [
    "#métodos públicos y privados\n",
    "class Ejemplo:\n",
    "    def publico(self):\n",
    "        print (\"Publico\")\n",
    "    \n",
    "    def __privado(self):\n",
    "        print (\"Privado\")\n",
    "        \n",
    "ej = Ejemplo()\n",
    "ej.publico()\n",
    "ej.__privado()"
   ]
  },
  {
   "cell_type": "markdown",
   "id": "4a6bf3ec",
   "metadata": {},
   "source": [
    "### Ejemplo 4 - Herencia"
   ]
  },
  {
   "cell_type": "code",
   "execution_count": 32,
   "id": "8caa14b6",
   "metadata": {},
   "outputs": [
    {
     "name": "stdout",
     "output_type": "stream",
     "text": [
      "Estamos tocando musica\n",
      "Eso lo pagas tu\n",
      "Son 870 €\n"
     ]
    }
   ],
   "source": [
    "#clase padre Instrumento\n",
    "class Instrumento:\n",
    "    def __init__(self, precio):\n",
    "        self.precio = precio\n",
    "\n",
    "    def tocar(self):\n",
    "        print (\"Estamos tocando musica\")\n",
    "    \n",
    "    def romper(self):\n",
    "        print (\"Eso lo pagas tu\")\n",
    "        print (\"Son\", self.precio, \"€\")\n",
    "\n",
    "#clase hija Bateria que hereda de Instrumento\n",
    "class Bateria(Instrumento):\n",
    "    pass\n",
    "\n",
    "#clase hija Guitarra que hereda de Instrumento\n",
    "class Guitarra(Instrumento):\n",
    "    pass\n",
    "\n",
    "#instanciar Bateria y Guitarra\n",
    "miBateria = Bateria(500)\n",
    "miGuitarra = Guitarra(870)\n",
    "\n",
    "#método de las clases padre\n",
    "miBateria.tocar()\n",
    "miGuitarra.romper()"
   ]
  },
  {
   "cell_type": "markdown",
   "id": "983c9ad7",
   "metadata": {},
   "source": [
    "### Ejemplo 5 - Herencia múltiple"
   ]
  },
  {
   "cell_type": "code",
   "execution_count": 16,
   "id": "20d2b8a6",
   "metadata": {},
   "outputs": [
    {
     "name": "stdout",
     "output_type": "stream",
     "text": [
      "El animal anda\n"
     ]
    }
   ],
   "source": [
    "#clase padre Terrestre\n",
    "class Terrestre:\n",
    "    def desplazar(self):\n",
    "        print (\"El animal anda\")\n",
    "\n",
    "#clase padre Acuatico\n",
    "class Acuatico:\n",
    "    def desplazar(self):\n",
    "        print (\"El animal nada\")\n",
    "\n",
    "#clase hija Cocodrilo que hereda de ambas\n",
    "class Cocodrilo(Terrestre, Acuatico):\n",
    "    pass\n",
    "\n",
    "#instanciar Cocodrilo\n",
    "cocodriloPepe = Cocodrilo()\n",
    "\n",
    "#método de las clases padre\n",
    "cocodriloPepe.desplazar()"
   ]
  },
  {
   "cell_type": "markdown",
   "id": "6c582f2f",
   "metadata": {},
   "source": [
    "### Ejemplo 6 - Sobrecarga y sobreescritura"
   ]
  },
  {
   "cell_type": "code",
   "execution_count": 33,
   "id": "5e9baf98",
   "metadata": {},
   "outputs": [],
   "source": [
    "#sobreescritura: clase hija con método con mismo nombre que la padre\n",
    "class Instrumento:\n",
    "    def tocar(self):\n",
    "        print(\"suena un instrumento\")\n",
    "\n",
    "class Guitarra (Instrumento):\n",
    "    def tocar(self):\n",
    "        print(\"suena una guitarra\")"
   ]
  },
  {
   "cell_type": "code",
   "execution_count": 34,
   "id": "ed2ca4e3",
   "metadata": {},
   "outputs": [
    {
     "ename": "TypeError",
     "evalue": "sumar() missing 1 required positional argument: 'c'",
     "output_type": "error",
     "traceback": [
      "\u001b[1;31m---------------------------------------------------------------------------\u001b[0m",
      "\u001b[1;31mTypeError\u001b[0m                                 Traceback (most recent call last)",
      "\u001b[1;32m~\\AppData\\Local\\Temp/ipykernel_13524/1306327967.py\u001b[0m in \u001b[0;36m<module>\u001b[1;34m\u001b[0m\n\u001b[0;32m      8\u001b[0m     \u001b[1;32mreturn\u001b[0m \u001b[0msuma\u001b[0m\u001b[1;33m\u001b[0m\u001b[1;33m\u001b[0m\u001b[0m\n\u001b[0;32m      9\u001b[0m \u001b[1;33m\u001b[0m\u001b[0m\n\u001b[1;32m---> 10\u001b[1;33m \u001b[0mprint\u001b[0m\u001b[1;33m(\u001b[0m\u001b[0msumar\u001b[0m\u001b[1;33m(\u001b[0m\u001b[1;36m10\u001b[0m\u001b[1;33m,\u001b[0m\u001b[1;36m5\u001b[0m\u001b[1;33m)\u001b[0m\u001b[1;33m)\u001b[0m\u001b[1;33m\u001b[0m\u001b[1;33m\u001b[0m\u001b[0m\n\u001b[0m\u001b[0;32m     11\u001b[0m \u001b[0mprint\u001b[0m\u001b[1;33m(\u001b[0m\u001b[0msumar\u001b[0m\u001b[1;33m(\u001b[0m\u001b[1;36m2\u001b[0m\u001b[1;33m,\u001b[0m\u001b[1;36m5\u001b[0m\u001b[1;33m,\u001b[0m\u001b[1;36m3\u001b[0m\u001b[1;33m)\u001b[0m\u001b[1;33m)\u001b[0m\u001b[1;33m\u001b[0m\u001b[1;33m\u001b[0m\u001b[0m\n",
      "\u001b[1;31mTypeError\u001b[0m: sumar() missing 1 required positional argument: 'c'"
     ]
    }
   ],
   "source": [
    "#sobrecarga: dos o más métodos con el mismo nombre pero funcionalidad diferente\n",
    "def sumar(a, b):\n",
    "    suma = a + b\n",
    "    return suma\n",
    "\n",
    "def sumar(a, b, c):\n",
    "    suma = a + b + c\n",
    "    return suma\n",
    "\n",
    "print(sumar(10,5))\n",
    "print(sumar(2,5,3))"
   ]
  },
  {
   "cell_type": "code",
   "execution_count": 35,
   "id": "7981f419",
   "metadata": {},
   "outputs": [
    {
     "name": "stdout",
     "output_type": "stream",
     "text": [
      "50\n"
     ]
    }
   ],
   "source": [
    "#sobrecarga\n",
    "def sumar(a, b, c):\n",
    "    suma = a + b + c\n",
    "    return suma\n",
    "\n",
    "def sumar(a, b):\n",
    "    suma = a * b\n",
    "    return suma\n",
    "\n",
    "print(sumar(10,5))"
   ]
  },
  {
   "cell_type": "markdown",
   "id": "fde4c7fd",
   "metadata": {},
   "source": [
    "### Ejemplo 7 - Polimorfismo"
   ]
  },
  {
   "cell_type": "code",
   "execution_count": 48,
   "id": "3ae0132d",
   "metadata": {},
   "outputs": [
    {
     "name": "stdout",
     "output_type": "stream",
     "text": [
      "Guau!\n",
      "Miau!\n"
     ]
    }
   ],
   "source": [
    "class Animal:\n",
    "    def hablar(self):\n",
    "        pass\n",
    "\n",
    "class Perro(Animal):\n",
    "    def hablar(self):\n",
    "        print(\"Guau!\")\n",
    "\n",
    "class Gato(Animal):\n",
    "    def hablar(self):\n",
    "        print(\"Miau!\")\n",
    "\n",
    "for animal in Perro(), Gato():\n",
    "    animal.hablar()"
   ]
  },
  {
   "cell_type": "markdown",
   "id": "ea526b0c",
   "metadata": {},
   "source": [
    "### Ejemplo 8 - Programación funcional"
   ]
  },
  {
   "cell_type": "code",
   "execution_count": 50,
   "id": "e4a38c85",
   "metadata": {},
   "outputs": [
    {
     "name": "stdout",
     "output_type": "stream",
     "text": [
      "9\n",
      "9\n"
     ]
    }
   ],
   "source": [
    "#funcion Lambda para calcular el cuadrado de un numero\n",
    "square = lambda x: x ** 2\n",
    "print(square(3))\n",
    "\n",
    "#funcion tradicional para calcular el cuadrado de un numero\n",
    "def square1(num):\n",
    "  return num ** 2\n",
    "print(square(3))"
   ]
  },
  {
   "cell_type": "markdown",
   "id": "31f5c0eb",
   "metadata": {},
   "source": [
    "### Ejemplo 9 - MVC y SQLite"
   ]
  },
  {
   "cell_type": "markdown",
   "id": "adcb738f",
   "metadata": {},
   "source": [
    "Este ejemplo se encuentra en en el mismo repositorio de GitHub que este notebook, en sus correspondientes archivos .py"
   ]
  }
 ],
 "metadata": {
  "kernelspec": {
   "display_name": "Python 3 (ipykernel)",
   "language": "python",
   "name": "python3"
  },
  "language_info": {
   "codemirror_mode": {
    "name": "ipython",
    "version": 3
   },
   "file_extension": ".py",
   "mimetype": "text/x-python",
   "name": "python",
   "nbconvert_exporter": "python",
   "pygments_lexer": "ipython3",
   "version": "3.9.7"
  }
 },
 "nbformat": 4,
 "nbformat_minor": 5
}
